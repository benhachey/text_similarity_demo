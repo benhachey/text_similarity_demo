{
 "metadata": {
  "language_info": {
   "codemirror_mode": {
    "name": "ipython",
    "version": 3
   },
   "file_extension": ".py",
   "mimetype": "text/x-python",
   "name": "python",
   "nbconvert_exporter": "python",
   "pygments_lexer": "ipython3",
   "version": "3.8.10"
  },
  "orig_nbformat": 4,
  "kernelspec": {
   "name": "python3",
   "display_name": "Python 3.8.10 64-bit ('ts38': conda)"
  },
  "interpreter": {
   "hash": "f0961ade8ceaa15d94fa39e554a2af4f55ba46d6d9230b23a31e88bb1ba865fc"
  }
 },
 "nbformat": 4,
 "nbformat_minor": 2,
 "cells": [
  {
   "cell_type": "code",
   "execution_count": 1,
   "metadata": {},
   "outputs": [],
   "source": [
    "import csv\n",
    "import pathlib\n",
    "\n",
    "from sklearn.feature_extraction.text import TfidfVectorizer\n",
    "from sklearn.metrics.pairwise import cosine_similarity\n",
    "\n",
    "CSV_PATH = pathlib.Path(\"list_of_provisions.csv\")\n",
    "ID_COLUMN_NAME = \"\\ufeffSECTION no\"\n",
    "TEXT_COLUMN_NAME = \"TEXT\"\n",
    "\n",
    "OUT_PATH = pathlib.Path(\"similarities.csv\")"
   ]
  },
  {
   "source": [
    "## Read text from CSV    "
   ],
   "cell_type": "markdown",
   "metadata": {}
  },
  {
   "cell_type": "code",
   "execution_count": 2,
   "metadata": {
    "tags": []
   },
   "outputs": [],
   "source": [
    "data = {}\n",
    "\n",
    "with CSV_PATH.open() as _f:\n",
    "    reader = csv.DictReader(_f)\n",
    "    for row in reader:\n",
    "        _id = row[ID_COLUMN_NAME]\n",
    "        _text = row[TEXT_COLUMN_NAME]\n",
    "        data[_id] = _text"
   ]
  },
  {
   "cell_type": "code",
   "execution_count": 3,
   "metadata": {},
   "outputs": [
    {
     "output_type": "execute_result",
     "data": {
      "text/plain": [
       "dict_keys(['008', '012', '016', '022', '025', '031', '035', '037', '041', '050', '051', '074', '075', '076', '077', '079', '080', '081', '082', '083', '084', '085', '086', '087', '091 ', '092', '093', '094', '095', '098', '099', '101', '102', '114', '124', '129', '130', '131', '133', '138', '141', '142', '143', '145', '147', '148', '149', '150', '151', '153', '161', '162', '163', '164', '165', '170', '176', '180', '194', '195', '196', '197', '199', '201', '203', '206', '207', '209', '210'])"
      ]
     },
     "metadata": {},
     "execution_count": 3
    }
   ],
   "source": [
    "data.keys()"
   ]
  },
  {
   "cell_type": "code",
   "execution_count": 4,
   "metadata": {},
   "outputs": [
    {
     "output_type": "execute_result",
     "data": {
      "text/plain": [
       "{'008': 0,\n",
       " '012': 1,\n",
       " '016': 2,\n",
       " '022': 3,\n",
       " '025': 4,\n",
       " '031': 5,\n",
       " '035': 6,\n",
       " '037': 7,\n",
       " '041': 8,\n",
       " '050': 9,\n",
       " '051': 10,\n",
       " '074': 11,\n",
       " '075': 12,\n",
       " '076': 13,\n",
       " '077': 14,\n",
       " '079': 15,\n",
       " '080': 16,\n",
       " '081': 17,\n",
       " '082': 18,\n",
       " '083': 19,\n",
       " '084': 20,\n",
       " '085': 21,\n",
       " '086': 22,\n",
       " '087': 23,\n",
       " '091 ': 24,\n",
       " '092': 25,\n",
       " '093': 26,\n",
       " '094': 27,\n",
       " '095': 28,\n",
       " '098': 29,\n",
       " '099': 30,\n",
       " '101': 31,\n",
       " '102': 32,\n",
       " '114': 33,\n",
       " '124': 34,\n",
       " '129': 35,\n",
       " '130': 36,\n",
       " '131': 37,\n",
       " '133': 38,\n",
       " '138': 39,\n",
       " '141': 40,\n",
       " '142': 41,\n",
       " '143': 42,\n",
       " '145': 43,\n",
       " '147': 44,\n",
       " '148': 45,\n",
       " '149': 46,\n",
       " '150': 47,\n",
       " '151': 48,\n",
       " '153': 49,\n",
       " '161': 50,\n",
       " '162': 51,\n",
       " '163': 52,\n",
       " '164': 53,\n",
       " '165': 54,\n",
       " '170': 55,\n",
       " '176': 56,\n",
       " '180': 57,\n",
       " '194': 58,\n",
       " '195': 59,\n",
       " '196': 60,\n",
       " '197': 61,\n",
       " '199': 62,\n",
       " '201': 63,\n",
       " '203': 64,\n",
       " '206': 65,\n",
       " '207': 66,\n",
       " '209': 67,\n",
       " '210': 68}"
      ]
     },
     "metadata": {},
     "execution_count": 4
    }
   ],
   "source": [
    "index = dict(zip(data.keys(), range(len(data.keys()))))\n",
    "index"
   ]
  },
  {
   "source": [
    "## Vectorise text\n",
    "\n",
    "Use a [tf-idf vectoriser](https://scikit-learn.org/stable/modules/generated/sklearn.feature_extraction.text.TfidfVectorizer.html) to tokenise text.\n",
    "\n",
    "More info on the [sklearn feature extraction page](https://scikit-learn.org/stable/modules/feature_extraction.html).\n",
    "\n",
    "Also [sklearn page on working with text data](https://scikit-learn.org/stable/tutorial/text_analytics/working_with_text_data.html)."
   ],
   "cell_type": "markdown",
   "metadata": {}
  },
  {
   "cell_type": "code",
   "execution_count": 5,
   "metadata": {},
   "outputs": [],
   "source": [
    "vectorizer = TfidfVectorizer(max_df=0.5, min_df=2)\n",
    "X = vectorizer.fit_transform(data.values())"
   ]
  },
  {
   "cell_type": "code",
   "execution_count": 6,
   "metadata": {},
   "outputs": [
    {
     "output_type": "stream",
     "name": "stdout",
     "text": [
      "Num words in vocabulary: 574\n"
     ]
    }
   ],
   "source": [
    "print(f\"Num words in vocabulary: {len(vectorizer.get_feature_names())}\")"
   ]
  },
  {
   "cell_type": "code",
   "execution_count": 7,
   "metadata": {},
   "outputs": [
    {
     "output_type": "stream",
     "name": "stdout",
     "text": [
      "(Num texts, Num vocab words): (69, 574)\n"
     ]
    }
   ],
   "source": [
    "print(f\"(Num texts, Num vocab words): {X.shape}\")"
   ]
  },
  {
   "source": [
    "## View tfidf vector for a text\n",
    "\n"
   ],
   "cell_type": "markdown",
   "metadata": {}
  },
  {
   "cell_type": "code",
   "execution_count": 8,
   "metadata": {},
   "outputs": [],
   "source": [
    "def get_feature_dict(key):\n",
    "    txt_idx = index[key]\n",
    "    V = X[txt_idx]\n",
    "    Vl = V.tolil()\n",
    "    feature_dict = {}\n",
    "    for tok_idx, tfidf in zip(*Vl.rows, *Vl.data):\n",
    "        tok_str = vectorizer.get_feature_names()[tok_idx]\n",
    "        feature_dict[tok_str] = tfidf\n",
    "    return feature_dict"
   ]
  },
  {
   "cell_type": "code",
   "execution_count": 9,
   "metadata": {},
   "outputs": [
    {
     "output_type": "execute_result",
     "data": {
      "text/plain": [
       "{'addition': 0.09720939359727047,\n",
       " 'after': 0.05644416391793208,\n",
       " 'amount': 0.27701722550560454,\n",
       " 'association': 0.1630159374539253,\n",
       " 'capital': 0.09233907516853486,\n",
       " 'declaration': 0.11085497392823201,\n",
       " 'divided': 0.10317018161010706,\n",
       " 'each': 0.07869349483757332,\n",
       " 'england': 0.07614749351271792,\n",
       " 'fixed': 0.11085497392823201,\n",
       " 'following': 0.15229498702543584,\n",
       " 'formed': 0.08822127961014528,\n",
       " 'having': 0.07614749351271792,\n",
       " 'he': 0.07869349483757332,\n",
       " 'herein': 0.07614749351271792,\n",
       " 'his': 0.06299206996726549,\n",
       " 'into': 0.06970538085044811,\n",
       " 'ireland': 0.08150796872696266,\n",
       " 'its': 0.05763159475302075,\n",
       " 'kingdom': 0.11085497392823201,\n",
       " 'last': 0.09233907516853486,\n",
       " 'less': 0.09720939359727047,\n",
       " 'liability': 0.15229498702543584,\n",
       " 'limited': 0.3386171314016396,\n",
       " 'members': 0.13227676818142547,\n",
       " 'memorandum': 0.18467815033706972,\n",
       " 'name': 0.23608048451271996,\n",
       " 'no': 0.0678623883960011,\n",
       " 'number': 0.08150796872696266,\n",
       " 'office': 0.07869349483757332,\n",
       " 'on': 0.09524497066203115,\n",
       " 'one': 0.06299206996726549,\n",
       " 'part': 0.06970538085044811,\n",
       " 'proposed': 0.33256492178469604,\n",
       " 'referred': 0.11085497392823201,\n",
       " 'registered': 0.12598413993453098,\n",
       " 'regulations': 0.0678623883960011,\n",
       " 'say': 0.0846542828504099,\n",
       " 'scotland': 0.0846542828504099,\n",
       " 'share': 0.09720939359727047,\n",
       " 'shares': 0.2867400477681545,\n",
       " 'situate': 0.10317018161010706,\n",
       " 'subject': 0.05530727764914053,\n",
       " 'subscriber': 0.22170994785646403,\n",
       " 'take': 0.09233907516853486,\n",
       " 'takes': 0.11085497392823201,\n",
       " 'than': 0.06970538085044811,\n",
       " 'that': 0.1973859585452158,\n",
       " 'their': 0.07168501194203862,\n",
       " 'things': 0.08822127961014528,\n",
       " 'united': 0.11085497392823201,\n",
       " 'where': 0.06299206996726549,\n",
       " 'whether': 0.0846542828504099,\n",
       " 'which': 0.1595073395470244,\n",
       " 'with': 0.10633822636468292}"
      ]
     },
     "metadata": {},
     "execution_count": 9
    }
   ],
   "source": [
    "get_feature_dict(\"008\")"
   ]
  },
  {
   "source": [
    "## Calculate similarities\n",
    "\n",
    "Calculate cosine similarity between each pair of texts."
   ],
   "cell_type": "markdown",
   "metadata": {}
  },
  {
   "cell_type": "code",
   "execution_count": 10,
   "metadata": {},
   "outputs": [],
   "source": [
    "S = cosine_similarity(X)"
   ]
  },
  {
   "cell_type": "code",
   "execution_count": 11,
   "metadata": {},
   "outputs": [],
   "source": [
    "def sim(key1, key2, kernel=S):\n",
    "    idx1 = index[key1]\n",
    "    idx2 = index[key2]\n",
    "    return S[idx1, idx2]"
   ]
  },
  {
   "cell_type": "code",
   "execution_count": 12,
   "metadata": {},
   "outputs": [
    {
     "output_type": "execute_result",
     "data": {
      "text/plain": [
       "0.38277761096501695"
      ]
     },
     "metadata": {},
     "execution_count": 12
    }
   ],
   "source": [
    "sim('008', '012')"
   ]
  },
  {
   "source": [
    "## Most similar for given key"
   ],
   "cell_type": "markdown",
   "metadata": {}
  },
  {
   "cell_type": "code",
   "execution_count": 13,
   "metadata": {},
   "outputs": [],
   "source": [
    "def most_sim(key, kernel=S):\n",
    "    idx = index[key]\n",
    "    sims = list(zip(S[idx], index.keys()))\n",
    "    return sorted(sims, reverse=True)"
   ]
  },
  {
   "cell_type": "code",
   "execution_count": 14,
   "metadata": {},
   "outputs": [
    {
     "output_type": "execute_result",
     "data": {
      "text/plain": [
       "[(1.0000000000000002, '008'),\n",
       " (0.38277761096501695, '012'),\n",
       " (0.27915556867069735, '025'),\n",
       " (0.25632827894340726, '176'),\n",
       " (0.2547251432647411, '041'),\n",
       " (0.23300020880534209, '022'),\n",
       " (0.2179430040787526, '196'),\n",
       " (0.19811229863832847, '180'),\n",
       " (0.19344491392414703, '161'),\n",
       " (0.18148579740988863, '095'),\n",
       " (0.17999732225439707, '016'),\n",
       " (0.17857648981528715, '199'),\n",
       " (0.15279082734770075, '094'),\n",
       " (0.1483729341202468, '081'),\n",
       " (0.14001592368633314, '050'),\n",
       " (0.1389851294491498, '031'),\n",
       " (0.13627054400681618, '210'),\n",
       " (0.1311989225041349, '101'),\n",
       " (0.12540225861245993, '079'),\n",
       " (0.12408845133037036, '203'),\n",
       " (0.11148761532485377, '075'),\n",
       " (0.1112343221123979, '129'),\n",
       " (0.10812861670983617, '051'),\n",
       " (0.10809616329565404, '153'),\n",
       " (0.10455586042390519, '035'),\n",
       " (0.09365319467237374, '142'),\n",
       " (0.09314122679793117, '131'),\n",
       " (0.09270782526315954, '148'),\n",
       " (0.09186266802258304, '165'),\n",
       " (0.0899020134730844, '133'),\n",
       " (0.08869868653845643, '209'),\n",
       " (0.08736379127355254, '194'),\n",
       " (0.07892360205032169, '138'),\n",
       " (0.07544121904515122, '102'),\n",
       " (0.07498383447937682, '080'),\n",
       " (0.0633800865308675, '098'),\n",
       " (0.059760665581770636, '149'),\n",
       " (0.05853059312981001, '083'),\n",
       " (0.05306234371435988, '092'),\n",
       " (0.05125132598743159, '077'),\n",
       " (0.05108506899427035, '087'),\n",
       " (0.05039604874327424, '124'),\n",
       " (0.05012401336886681, '076'),\n",
       " (0.04985804712547044, '147'),\n",
       " (0.04765744567046051, '162'),\n",
       " (0.04596823618144992, '086'),\n",
       " (0.045247762479027155, '143'),\n",
       " (0.044474122928479416, '091 '),\n",
       " (0.04257567760857064, '170'),\n",
       " (0.036964325580017686, '206'),\n",
       " (0.036669057953507694, '037'),\n",
       " (0.03563112386369976, '151'),\n",
       " (0.03447971945345241, '093'),\n",
       " (0.03389758972149025, '197'),\n",
       " (0.03221218156132204, '082'),\n",
       " (0.029883165792247736, '164'),\n",
       " (0.029493439349343203, '163'),\n",
       " (0.0279911303214162, '145'),\n",
       " (0.025681656664384468, '141'),\n",
       " (0.021165574160461983, '099'),\n",
       " (0.018626237242417774, '207'),\n",
       " (0.018076121731387618, '114'),\n",
       " (0.017953476592510564, '150'),\n",
       " (0.017607221032089497, '195'),\n",
       " (0.011364546886526732, '085'),\n",
       " (0.007228007579641555, '201'),\n",
       " (0.0, '130'),\n",
       " (0.0, '084'),\n",
       " (0.0, '074')]"
      ]
     },
     "metadata": {},
     "execution_count": 14
    }
   ],
   "source": [
    "most_sim('008')"
   ]
  },
  {
   "source": [
    "## Write similarity CSV"
   ],
   "cell_type": "markdown",
   "metadata": {}
  },
  {
   "cell_type": "code",
   "execution_count": 15,
   "metadata": {},
   "outputs": [],
   "source": [
    "with open(OUT_PATH, 'w') as _f:\n",
    "    writer = csv.writer(_f)\n",
    "    writer.writerow([\"key1\", \"key2\", \"similarity\"])\n",
    "    keys = list(index.keys())\n",
    "    N = len(keys)\n",
    "    for i in range(N):\n",
    "        key1 = keys[i]\n",
    "        for j in range(i+1, N):\n",
    "            key2 = keys[j]\n",
    "            similarity = S[i][j]\n",
    "            writer.writerow([key1, key2, similarity])"
   ]
  },
  {
   "cell_type": "code",
   "execution_count": null,
   "metadata": {},
   "outputs": [],
   "source": []
  }
 ]
}